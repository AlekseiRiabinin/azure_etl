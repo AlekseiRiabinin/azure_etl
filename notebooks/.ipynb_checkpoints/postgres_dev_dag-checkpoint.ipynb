{
 "cells": [
  {
   "cell_type": "code",
   "execution_count": 2,
   "id": "d3901b63-c9b2-40c3-9a71-af72ab8e809e",
   "metadata": {},
   "outputs": [
    {
     "data": {
      "text/plain": [
       "<DAG: mock_postgres_etl>"
      ]
     },
     "metadata": {},
     "output_type": "display_data"
    }
   ],
   "source": [
    "from datetime import datetime, timedelta\n",
    "from airflow.models import DAG\n",
    "from airflow.operators.python import PythonOperator\n",
    "from airflow.operators.empty import EmptyOperator\n",
    "import graphviz\n",
    "from IPython.display import display, Markdown\n",
    "import matplotlib.pyplot as plt\n",
    "import seaborn as sns\n",
    "\n",
    "# Configure better-looking plots\n",
    "sns.set(style=\"whitegrid\")\n",
    "plt.rcParams[\"figure.figsize\"] = (10, 4)\n",
    "\n",
    "# Enhanced mock function with visualization\n",
    "def mock_postgres_etl(**kwargs):\n",
    "    \"\"\"Mock ETL with visual feedback\"\"\"\n",
    "    # Display connection status\n",
    "    display(Markdown(\"### 🟢 Connected to PostgreSQL\"))\n",
    "    \n",
    "    # Mock data processing visualization\n",
    "    fig, ax = plt.subplots()\n",
    "    sns.barplot(x=[\"bridge_customer_address\", \"dim_customer\"], \n",
    "                y=[12500, 8400], \n",
    "                palette=\"Blues_d\",\n",
    "                ax=ax)\n",
    "    ax.set_title(\"📊 Mock Record Counts by Table\")\n",
    "    plt.show()\n",
    "    \n",
    "    # Return status with timestamp\n",
    "    return f\"ETL completed at {datetime.now().strftime('%H:%M:%S')}\"\n",
    "\n",
    "# Create DAG with documentation\n",
    "with DAG(\n",
    "    dag_id=\"mock_postgres_etl\",\n",
    "    schedule=\"@daily\",\n",
    "    start_date=datetime(2024, 1, 1),\n",
    "    catchup=False,\n",
    "    default_args={\n",
    "        \"retries\": 1,\n",
    "        \"retry_delay\": timedelta(minutes=5),\n",
    "    },\n",
    "    doc_md=\"\"\"### Postgres Mock ETL Pipeline\n",
    "    **Purpose**: Prototype database operations before production deployment\n",
    "    \"\"\"\n",
    ") as dag:\n",
    "    \n",
    "    start = EmptyOperator(task_id=\"start\", doc=\"Pipeline trigger\")\n",
    "    \n",
    "    postgres_task = PythonOperator(\n",
    "        task_id=\"postgres_etl\",\n",
    "        python_callable=mock_postgres_etl,\n",
    "        doc=\"Mock database extraction and transformation\"\n",
    "    )\n",
    "    \n",
    "    end = EmptyOperator(task_id=\"end\", doc=\"Pipeline completion\")\n",
    "\n",
    "    start >> postgres_task >> end\n",
    "\n",
    "# Enhanced Visualization\n",
    "display(Markdown(\"## 🛠️ DAG Structure\"))\n",
    "dot = graphviz.Digraph()\n",
    "for task in dag.tasks:\n",
    "    dot.node(task.task_id, \n",
    "             shape=\"rectangle\",\n",
    "             style=\"filled\",\n",
    "             fillcolor=\"lightblue\" if isinstance(task, EmptyOperator) else \"lightgreen\")\n",
    "    \n",
    "for upstream, downstream in dag.edges:\n",
    "    dot.edge(upstream.task_id, downstream.task_id)\n",
    "display(dot)\n",
    "\n",
    "# Interactive Testing\n",
    "display(Markdown(\"## 🧪 Test Execution\"))\n",
    "test_result = postgres_task.execute(context={\"execution_date\": datetime.now()})\n",
    "display(Markdown(f\"**Task Output**: `{test_result}`\"))\n",
    "\n",
    "# DAG Documentation\n",
    "display(Markdown(\"## 📝 DAG Metadata\"))\n",
    "display(Markdown(f\"\"\"\n",
    "- **DAG ID**: `{dag.dag_id}`\n",
    "- **Schedule**: `{dag.schedule_interval}`\n",
    "- **Start Date**: `{dag.start_date}`\n",
    "- **Tasks**: `{[t.task_id for t in dag.tasks]}`\n",
    "\"\"\"))"
   ]
  },
  {
   "cell_type": "code",
   "execution_count": null,
   "id": "75780997-4c17-405a-80eb-b4355210f1c4",
   "metadata": {},
   "outputs": [],
   "source": []
  },
  {
   "cell_type": "code",
   "execution_count": null,
   "id": "8daca27f-012f-4c34-b9c5-93b7bfbcc41c",
   "metadata": {},
   "outputs": [],
   "source": []
  }
 ],
 "metadata": {
  "kernelspec": {
   "display_name": "Python 3 (ipykernel)",
   "language": "python",
   "name": "python3"
  },
  "language_info": {
   "codemirror_mode": {
    "name": "ipython",
    "version": 3
   },
   "file_extension": ".py",
   "mimetype": "text/x-python",
   "name": "python",
   "nbconvert_exporter": "python",
   "pygments_lexer": "ipython3",
   "version": "3.11.6"
  }
 },
 "nbformat": 4,
 "nbformat_minor": 5
}
