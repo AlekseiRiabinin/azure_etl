{
 "cells": [
  {
   "cell_type": "code",
   "execution_count": 3,
   "id": "eb169abc-dfed-419c-9231-286edf93a3d6",
   "metadata": {},
   "outputs": [
    {
     "name": "stdout",
     "output_type": "stream",
     "text": [
      "+-------+---+\n",
      "|   Name|Age|\n",
      "+-------+---+\n",
      "|  Alice| 34|\n",
      "|    Bob| 45|\n",
      "|Charlie| 28|\n",
      "+-------+---+\n",
      "\n"
     ]
    }
   ],
   "source": [
    "from pyspark.sql import SparkSession\n",
    "\n",
    "# Initialize a Spark session\n",
    "spark = SparkSession.builder \\\n",
    "    .appName(\"PySpark Test\") \\\n",
    "    .config(\"spark.sql.repl.eagerEval.enabled\", True) \\\n",
    "    .getOrCreate()\n",
    "\n",
    "# Create a simple DataFrame\n",
    "data = [(\"Alice\", 34), (\"Bob\", 45), (\"Charlie\", 28)]\n",
    "df = spark.createDataFrame(data, [\"Name\", \"Age\"])\n",
    "\n",
    "# Show the DataFrame\n",
    "df.show()"
   ]
  },
  {
   "cell_type": "code",
   "execution_count": 4,
   "id": "c6af8dd4-d7b5-4ada-9dc5-444c89f9927e",
   "metadata": {
    "scrolled": true
   },
   "outputs": [
    {
     "name": "stdout",
     "output_type": "stream",
     "text": [
      "apache-airflow                           2.9.1\n",
      "apache-airflow-providers-common-io       1.3.1\n",
      "apache-airflow-providers-common-sql      1.12.0\n",
      "apache-airflow-providers-fab             1.0.4\n",
      "apache-airflow-providers-ftp             3.8.0\n",
      "apache-airflow-providers-http            4.10.1\n",
      "apache-airflow-providers-imap            3.5.0\n",
      "apache-airflow-providers-smtp            1.6.1\n",
      "apache-airflow-providers-sqlite          3.7.1\n"
     ]
    }
   ],
   "source": [
    "!pip list | grep airflow"
   ]
  },
  {
   "cell_type": "code",
   "execution_count": null,
   "id": "58791062-e44e-4841-9cb7-36f87cca16fa",
   "metadata": {},
   "outputs": [],
   "source": []
  }
 ],
 "metadata": {
  "kernelspec": {
   "display_name": "Python 3 (ipykernel)",
   "language": "python",
   "name": "python3"
  },
  "language_info": {
   "codemirror_mode": {
    "name": "ipython",
    "version": 3
   },
   "file_extension": ".py",
   "mimetype": "text/x-python",
   "name": "python",
   "nbconvert_exporter": "python",
   "pygments_lexer": "ipython3",
   "version": "3.11.6"
  }
 },
 "nbformat": 4,
 "nbformat_minor": 5
}
