{
 "cells": [
  {
   "cell_type": "code",
   "execution_count": 1,
   "id": "9a4a343d-8729-4633-b9c5-f391315f7e4c",
   "metadata": {},
   "outputs": [
    {
     "name": "stdout",
     "output_type": "stream",
     "text": [
      "✅ Python environment ready\n"
     ]
    }
   ],
   "source": [
    "# Verify Environment\n",
    "import os\n",
    "from pyspark.sql import SparkSession\n",
    "\n",
    "print(\"✅ Python environment ready\")"
   ]
  },
  {
   "cell_type": "code",
   "execution_count": 2,
   "id": "5095ee51-9646-497f-9bd9-a2f50d5886b6",
   "metadata": {},
   "outputs": [
    {
     "name": "stdout",
     "output_type": "stream",
     "text": [
      "Checking Kafka dependencies...\n",
      "✅ All required JARs present\n"
     ]
    }
   ],
   "source": [
    "# Dependency Check\n",
    "required_jars = [\n",
    "    \"spark-sql-kafka-0-10_2.12-3.5.0.jar\",\n",
    "    \"kafka-clients-3.5.0.jar\",\n",
    "    \"kafka_2.12-3.5.0.jar\",\n",
    "    \"commons-pool2-2.11.1.jar\"\n",
    "]\n",
    "\n",
    "print(\"Checking Kafka dependencies...\")\n",
    "missing = [j for j in required_jars if not os.path.exists(f\"/opt/spark/jars/{j}\")]\n",
    "if missing:\n",
    "    print(f\"❌ Missing JARs: {missing}\")\n",
    "else:\n",
    "    print(\"✅ All required JARs present\")"
   ]
  },
  {
   "cell_type": "code",
   "execution_count": 3,
   "id": "a7344a24-b034-426f-9f3f-4560a9ad8ff7",
   "metadata": {},
   "outputs": [
    {
     "name": "stdout",
     "output_type": "stream",
     "text": [
      "SparkSession created with Kafka support\n"
     ]
    }
   ],
   "source": [
    "# Minimal Spark Session\n",
    "spark = (SparkSession.builder\n",
    "    .appName(\"KafkaConnectivityTest\")\n",
    "    .config(\"spark.jars\", \",\".join([f\"/opt/spark/jars/{j}\" for j in required_jars]))\n",
    "    .config(\"spark.driver.extraClassPath\", \"/opt/spark/jars/*\")\n",
    "    .config(\"spark.executor.extraClassPath\", \"/opt/spark/jars/*\")\n",
    "    .config(\"spark.sql.streaming.kafka.useDeprecatedOffsetFetching\", \"false\")\n",
    "    .getOrCreate())\n",
    "\n",
    "print(\"SparkSession created with Kafka support\")"
   ]
  },
  {
   "cell_type": "code",
   "execution_count": 4,
   "id": "c59c05e4-a304-4782-8b60-8aaa8d4ec13a",
   "metadata": {},
   "outputs": [
    {
     "name": "stdout",
     "output_type": "stream",
     "text": [
      "\n",
      "Testing connection to Kafka...\n",
      "✅ Successfully connected to Kafka brokers: kafka-1:9092,kafka-2:9095\n",
      "Schema of Kafka stream:\n",
      "root\n",
      " |-- key: binary (nullable = true)\n",
      " |-- value: binary (nullable = true)\n",
      " |-- topic: string (nullable = true)\n",
      " |-- partition: integer (nullable = true)\n",
      " |-- offset: long (nullable = true)\n",
      " |-- timestamp: timestamp (nullable = true)\n",
      " |-- timestampType: integer (nullable = true)\n",
      "\n"
     ]
    },
    {
     "data": {
      "text/plain": [
       "True"
      ]
     },
     "execution_count": 4,
     "metadata": {},
     "output_type": "execute_result"
    }
   ],
   "source": [
    "# Connection Test\n",
    "def test_kafka_connection(bootstrap_servers=\"kafka-1:9092,kafka-2:9095\", topic=\"test_topic\"):\n",
    "    try:\n",
    "        test_df = spark.read \\\n",
    "            .format(\"kafka\") \\\n",
    "            .option(\"kafka.bootstrap.servers\", bootstrap_servers) \\\n",
    "            .option(\"subscribe\", topic) \\\n",
    "            .option(\"startingOffsets\", \"earliest\") \\\n",
    "            .option(\"failOnDataLoss\", \"false\") \\\n",
    "            .load()\n",
    "        \n",
    "        print(f\"✅ Successfully connected to Kafka brokers: {bootstrap_servers}\")\n",
    "        print(\"Schema of Kafka stream:\")\n",
    "        test_df.printSchema()\n",
    "        return True\n",
    "    except Exception as e:\n",
    "        print(f\"❌ Connection failed: {str(e)}\")\n",
    "        return False\n",
    "\n",
    "# Test with different configurations\n",
    "print(\"\\nTesting connection to Kafka...\")\n",
    "test_kafka_connection()"
   ]
  },
  {
   "cell_type": "code",
   "execution_count": null,
   "id": "2ac8ec22-a0f8-4064-b12f-3c2c65cf6014",
   "metadata": {},
   "outputs": [],
   "source": []
  }
 ],
 "metadata": {
  "kernelspec": {
   "display_name": "Python 3 (ipykernel)",
   "language": "python",
   "name": "python3"
  },
  "language_info": {
   "codemirror_mode": {
    "name": "ipython",
    "version": 3
   },
   "file_extension": ".py",
   "mimetype": "text/x-python",
   "name": "python",
   "nbconvert_exporter": "python",
   "pygments_lexer": "ipython3",
   "version": "3.11.6"
  }
 },
 "nbformat": 4,
 "nbformat_minor": 5
}
