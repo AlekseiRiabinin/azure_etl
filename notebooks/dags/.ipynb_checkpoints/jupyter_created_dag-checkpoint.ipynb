{
 "cells": [
  {
   "cell_type": "code",
   "execution_count": 1,
   "id": "72227971-7bff-4f7a-b85a-e0cfacb9371a",
   "metadata": {},
   "outputs": [
    {
     "name": "stderr",
     "output_type": "stream",
     "text": [
      "UsageError: Line magic function `%%writefile` not found.\n"
     ]
    }
   ],
   "source": [
    "# In a Jupyter notebook cell\n",
    "from datetime import datetime\n",
    "from airflow import DAG\n",
    "from airflow.operators.python import PythonOperator\n",
    "\n",
    "def hello_world():\n",
    "    print(\"Hello from Jupyter-created DAG!\")\n",
    "\n",
    "default_args = {\n",
    "    'owner': 'jupyter',\n",
    "    'start_date': datetime(2023, 1, 1),\n",
    "}\n",
    "\n",
    "with DAG(\n",
    "    'jupyter_dag',\n",
    "    default_args=default_args,\n",
    "    schedule_interval='@daily',\n",
    "    catchup=False,\n",
    ") as dag:\n",
    "    \n",
    "    task1 = PythonOperator(\n",
    "        task_id='print_hello',\n",
    "        python_callable=hello_world\n",
    "    )"
   ]
  },
  {
   "cell_type": "code",
   "execution_count": null,
   "id": "7aaa6084-0ba3-4677-8658-d0fca103d5ea",
   "metadata": {},
   "outputs": [],
   "source": []
  }
 ],
 "metadata": {
  "kernelspec": {
   "display_name": "Python 3 (ipykernel)",
   "language": "python",
   "name": "python3"
  },
  "language_info": {
   "codemirror_mode": {
    "name": "ipython",
    "version": 3
   },
   "file_extension": ".py",
   "mimetype": "text/x-python",
   "name": "python",
   "nbconvert_exporter": "python",
   "pygments_lexer": "ipython3",
   "version": "3.11.6"
  }
 },
 "nbformat": 4,
 "nbformat_minor": 5
}
